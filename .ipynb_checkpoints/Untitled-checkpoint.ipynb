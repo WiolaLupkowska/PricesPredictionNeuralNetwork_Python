{
 "cells": [
  {
   "cell_type": "markdown",
   "id": "f7ee239d",
   "metadata": {
    "pycharm": {
     "name": "#%% md\n"
    }
   },
   "source": [
    "# Model"
   ]
  },
  {
   "cell_type": "code",
   "execution_count": 1,
   "id": "5041f623",
   "metadata": {},
   "outputs": [
    {
     "name": "stdout",
     "output_type": "stream",
     "text": [
      "Libraries imported.\n"
     ]
    }
   ],
   "source": [
    "import pandas as pd\n",
    "import matplotlib.pyplot as plt\n",
    "import tensorflow as tf\n",
    "\n",
    "from utils import *\n",
    "from sklearn.model_selection import train_test_split\n",
    "from tensorflow.keras.models import Sequential\n",
    "from tensorflow.keras.layers import Dense, Dropout\n",
    "from tensorflow.keras.callbacks import EarlyStopping, LambdaCallback\n",
    "\n",
    "%matplotlib inline\n",
    "tf.compat.v1.logging.set_verbosity(tf.compat.v1.logging.ERROR)\n",
    "\n",
    "print('Libraries imported.')"
   ]
  },
  {
   "cell_type": "code",
   "execution_count": 2,
   "id": "1bd1ed7b",
   "metadata": {},
   "outputs": [
    {
     "data": {
      "text/html": [
       "<div>\n",
       "<style scoped>\n",
       "    .dataframe tbody tr th:only-of-type {\n",
       "        vertical-align: middle;\n",
       "    }\n",
       "\n",
       "    .dataframe tbody tr th {\n",
       "        vertical-align: top;\n",
       "    }\n",
       "\n",
       "    .dataframe thead th {\n",
       "        text-align: right;\n",
       "    }\n",
       "</style>\n",
       "<table border=\"1\" class=\"dataframe\">\n",
       "  <thead>\n",
       "    <tr style=\"text-align: right;\">\n",
       "      <th></th>\n",
       "      <th>number</th>\n",
       "      <th>date</th>\n",
       "      <th>age</th>\n",
       "      <th>distance</th>\n",
       "      <th>stores</th>\n",
       "      <th>latitude</th>\n",
       "      <th>longitude</th>\n",
       "      <th>price</th>\n",
       "    </tr>\n",
       "  </thead>\n",
       "  <tbody>\n",
       "    <tr>\n",
       "      <th>0</th>\n",
       "      <td>146</td>\n",
       "      <td>2003</td>\n",
       "      <td>30</td>\n",
       "      <td>0</td>\n",
       "      <td>5</td>\n",
       "      <td>86</td>\n",
       "      <td>120</td>\n",
       "      <td>13180</td>\n",
       "    </tr>\n",
       "    <tr>\n",
       "      <th>1</th>\n",
       "      <td>147</td>\n",
       "      <td>2007</td>\n",
       "      <td>13</td>\n",
       "      <td>10</td>\n",
       "      <td>4</td>\n",
       "      <td>81</td>\n",
       "      <td>128</td>\n",
       "      <td>14107</td>\n",
       "    </tr>\n",
       "    <tr>\n",
       "      <th>2</th>\n",
       "      <td>148</td>\n",
       "      <td>2018</td>\n",
       "      <td>18</td>\n",
       "      <td>6</td>\n",
       "      <td>5</td>\n",
       "      <td>84</td>\n",
       "      <td>128</td>\n",
       "      <td>13986</td>\n",
       "    </tr>\n",
       "    <tr>\n",
       "      <th>3</th>\n",
       "      <td>149</td>\n",
       "      <td>2012</td>\n",
       "      <td>7</td>\n",
       "      <td>8</td>\n",
       "      <td>2</td>\n",
       "      <td>87</td>\n",
       "      <td>127</td>\n",
       "      <td>13140</td>\n",
       "    </tr>\n",
       "    <tr>\n",
       "      <th>4</th>\n",
       "      <td>150</td>\n",
       "      <td>2012</td>\n",
       "      <td>29</td>\n",
       "      <td>6</td>\n",
       "      <td>3</td>\n",
       "      <td>87</td>\n",
       "      <td>126</td>\n",
       "      <td>14449</td>\n",
       "    </tr>\n",
       "  </tbody>\n",
       "</table>\n",
       "</div>"
      ],
      "text/plain": [
       "   number  date  age  distance  stores  latitude  longitude  price\n",
       "0     146  2003   30         0       5        86        120  13180\n",
       "1     147  2007   13        10       4        81        128  14107\n",
       "2     148  2018   18         6       5        84        128  13986\n",
       "3     149  2012    7         8       2        87        127  13140\n",
       "4     150  2012   29         6       3        87        126  14449"
      ]
     },
     "execution_count": 2,
     "metadata": {},
     "output_type": "execute_result"
    }
   ],
   "source": [
    "data = pd.read_csv('data.csv', names = column_names)\n",
    "data.head()"
   ]
  },
  {
   "cell_type": "code",
   "execution_count": 3,
   "id": "e20c3e76",
   "metadata": {},
   "outputs": [
    {
     "data": {
      "text/html": [
       "<div>\n",
       "<style scoped>\n",
       "    .dataframe tbody tr th:only-of-type {\n",
       "        vertical-align: middle;\n",
       "    }\n",
       "\n",
       "    .dataframe tbody tr th {\n",
       "        vertical-align: top;\n",
       "    }\n",
       "\n",
       "    .dataframe thead th {\n",
       "        text-align: right;\n",
       "    }\n",
       "</style>\n",
       "<table border=\"1\" class=\"dataframe\">\n",
       "  <thead>\n",
       "    <tr style=\"text-align: right;\">\n",
       "      <th></th>\n",
       "      <th>number</th>\n",
       "      <th>date</th>\n",
       "      <th>distance</th>\n",
       "      <th>stores</th>\n",
       "      <th>price</th>\n",
       "    </tr>\n",
       "  </thead>\n",
       "  <tbody>\n",
       "    <tr>\n",
       "      <th>0</th>\n",
       "      <td>146</td>\n",
       "      <td>2003</td>\n",
       "      <td>0</td>\n",
       "      <td>5</td>\n",
       "      <td>13180</td>\n",
       "    </tr>\n",
       "    <tr>\n",
       "      <th>1</th>\n",
       "      <td>147</td>\n",
       "      <td>2007</td>\n",
       "      <td>10</td>\n",
       "      <td>4</td>\n",
       "      <td>14107</td>\n",
       "    </tr>\n",
       "    <tr>\n",
       "      <th>2</th>\n",
       "      <td>148</td>\n",
       "      <td>2018</td>\n",
       "      <td>6</td>\n",
       "      <td>5</td>\n",
       "      <td>13986</td>\n",
       "    </tr>\n",
       "    <tr>\n",
       "      <th>3</th>\n",
       "      <td>149</td>\n",
       "      <td>2012</td>\n",
       "      <td>8</td>\n",
       "      <td>2</td>\n",
       "      <td>13140</td>\n",
       "    </tr>\n",
       "    <tr>\n",
       "      <th>4</th>\n",
       "      <td>150</td>\n",
       "      <td>2012</td>\n",
       "      <td>6</td>\n",
       "      <td>3</td>\n",
       "      <td>14449</td>\n",
       "    </tr>\n",
       "  </tbody>\n",
       "</table>\n",
       "</div>"
      ],
      "text/plain": [
       "   number  date  distance  stores  price\n",
       "0     146  2003         0       5  13180\n",
       "1     147  2007        10       4  14107\n",
       "2     148  2018         6       5  13986\n",
       "3     149  2012         8       2  13140\n",
       "4     150  2012         6       3  14449"
      ]
     },
     "execution_count": 3,
     "metadata": {},
     "output_type": "execute_result"
    }
   ],
   "source": [
    "data.drop('age', inplace=True, axis=1)\n",
    "data.drop('latitude', inplace=True, axis=1)\n",
    "data.drop('longitude', inplace=True, axis=1)\n",
    "data.head()"
   ]
  },
  {
   "cell_type": "code",
   "execution_count": 4,
   "id": "68991a39",
   "metadata": {},
   "outputs": [
    {
     "data": {
      "text/plain": [
       "number      0\n",
       "date        0\n",
       "distance    0\n",
       "stores      0\n",
       "price       0\n",
       "dtype: int64"
      ]
     },
     "execution_count": 4,
     "metadata": {},
     "output_type": "execute_result"
    }
   ],
   "source": [
    "data.isna().sum()"
   ]
  },
  {
   "cell_type": "code",
   "execution_count": 5,
   "id": "1ff82177",
   "metadata": {},
   "outputs": [
    {
     "data": {
      "text/html": [
       "<div>\n",
       "<style scoped>\n",
       "    .dataframe tbody tr th:only-of-type {\n",
       "        vertical-align: middle;\n",
       "    }\n",
       "\n",
       "    .dataframe tbody tr th {\n",
       "        vertical-align: top;\n",
       "    }\n",
       "\n",
       "    .dataframe thead th {\n",
       "        text-align: right;\n",
       "    }\n",
       "</style>\n",
       "<table border=\"1\" class=\"dataframe\">\n",
       "  <thead>\n",
       "    <tr style=\"text-align: right;\">\n",
       "      <th></th>\n",
       "      <th>date</th>\n",
       "      <th>distance</th>\n",
       "      <th>stores</th>\n",
       "      <th>price</th>\n",
       "    </tr>\n",
       "  </thead>\n",
       "  <tbody>\n",
       "    <tr>\n",
       "      <th>1</th>\n",
       "      <td>-0.355032</td>\n",
       "      <td>1.574887</td>\n",
       "      <td>-0.291240</td>\n",
       "      <td>0.196683</td>\n",
       "    </tr>\n",
       "    <tr>\n",
       "      <th>2</th>\n",
       "      <td>1.660566</td>\n",
       "      <td>0.325022</td>\n",
       "      <td>0.026590</td>\n",
       "      <td>0.078617</td>\n",
       "    </tr>\n",
       "    <tr>\n",
       "      <th>3</th>\n",
       "      <td>0.561149</td>\n",
       "      <td>0.949955</td>\n",
       "      <td>-0.926901</td>\n",
       "      <td>-0.746874</td>\n",
       "    </tr>\n",
       "    <tr>\n",
       "      <th>4</th>\n",
       "      <td>0.561149</td>\n",
       "      <td>0.325022</td>\n",
       "      <td>-0.609070</td>\n",
       "      <td>0.530392</td>\n",
       "    </tr>\n",
       "    <tr>\n",
       "      <th>5</th>\n",
       "      <td>-0.355032</td>\n",
       "      <td>-0.924844</td>\n",
       "      <td>-0.609070</td>\n",
       "      <td>-0.941050</td>\n",
       "    </tr>\n",
       "  </tbody>\n",
       "</table>\n",
       "</div>"
      ],
      "text/plain": [
       "       date  distance    stores     price\n",
       "1 -0.355032  1.574887 -0.291240  0.196683\n",
       "2  1.660566  0.325022  0.026590  0.078617\n",
       "3  0.561149  0.949955 -0.926901 -0.746874\n",
       "4  0.561149  0.325022 -0.609070  0.530392\n",
       "5 -0.355032 -0.924844 -0.609070 -0.941050"
      ]
     },
     "execution_count": 5,
     "metadata": {},
     "output_type": "execute_result"
    }
   ],
   "source": [
    "data = data.iloc[1:,1:]\n",
    "data_norm = (data - data.mean())/data.std()\n",
    "data_norm.head()"
   ]
  },
  {
   "cell_type": "code",
   "execution_count": 6,
   "id": "cb150e37",
   "metadata": {},
   "outputs": [],
   "source": [
    "y_mean = data['price'].mean()\n",
    "y_std = data['price'].std()\n",
    "def convert_label_value(pred):\n",
    "    return int(pred * y_std + y_mean) #trzeba cofnac normalizacje ceny"
   ]
  },
  {
   "cell_type": "code",
   "execution_count": 7,
   "id": "e285399e",
   "metadata": {},
   "outputs": [
    {
     "data": {
      "text/html": [
       "<div>\n",
       "<style scoped>\n",
       "    .dataframe tbody tr th:only-of-type {\n",
       "        vertical-align: middle;\n",
       "    }\n",
       "\n",
       "    .dataframe tbody tr th {\n",
       "        vertical-align: top;\n",
       "    }\n",
       "\n",
       "    .dataframe thead th {\n",
       "        text-align: right;\n",
       "    }\n",
       "</style>\n",
       "<table border=\"1\" class=\"dataframe\">\n",
       "  <thead>\n",
       "    <tr style=\"text-align: right;\">\n",
       "      <th></th>\n",
       "      <th>date</th>\n",
       "      <th>distance</th>\n",
       "      <th>stores</th>\n",
       "    </tr>\n",
       "  </thead>\n",
       "  <tbody>\n",
       "    <tr>\n",
       "      <th>1</th>\n",
       "      <td>-0.355032</td>\n",
       "      <td>1.574887</td>\n",
       "      <td>-0.291240</td>\n",
       "    </tr>\n",
       "    <tr>\n",
       "      <th>2</th>\n",
       "      <td>1.660566</td>\n",
       "      <td>0.325022</td>\n",
       "      <td>0.026590</td>\n",
       "    </tr>\n",
       "    <tr>\n",
       "      <th>3</th>\n",
       "      <td>0.561149</td>\n",
       "      <td>0.949955</td>\n",
       "      <td>-0.926901</td>\n",
       "    </tr>\n",
       "    <tr>\n",
       "      <th>4</th>\n",
       "      <td>0.561149</td>\n",
       "      <td>0.325022</td>\n",
       "      <td>-0.609070</td>\n",
       "    </tr>\n",
       "    <tr>\n",
       "      <th>5</th>\n",
       "      <td>-0.355032</td>\n",
       "      <td>-0.924844</td>\n",
       "      <td>-0.609070</td>\n",
       "    </tr>\n",
       "  </tbody>\n",
       "</table>\n",
       "</div>"
      ],
      "text/plain": [
       "       date  distance    stores\n",
       "1 -0.355032  1.574887 -0.291240\n",
       "2  1.660566  0.325022  0.026590\n",
       "3  0.561149  0.949955 -0.926901\n",
       "4  0.561149  0.325022 -0.609070\n",
       "5 -0.355032 -0.924844 -0.609070"
      ]
     },
     "execution_count": 7,
     "metadata": {},
     "output_type": "execute_result"
    }
   ],
   "source": [
    "x = data_norm.iloc[:,:3]\n",
    "x.head()"
   ]
  },
  {
   "cell_type": "code",
   "execution_count": 8,
   "id": "117fbd67",
   "metadata": {},
   "outputs": [
    {
     "data": {
      "text/plain": [
       "1    0.196683\n",
       "2    0.078617\n",
       "3   -0.746874\n",
       "4    0.530392\n",
       "5   -0.941050\n",
       "Name: price, dtype: float64"
      ]
     },
     "execution_count": 8,
     "metadata": {},
     "output_type": "execute_result"
    }
   ],
   "source": [
    "y = data_norm.iloc[:,-1]\n",
    "y.head()"
   ]
  },
  {
   "cell_type": "code",
   "execution_count": 9,
   "id": "894a695e",
   "metadata": {},
   "outputs": [],
   "source": [
    "x_arr = x.values\n",
    "y_arr = y.values"
   ]
  },
  {
   "cell_type": "code",
   "execution_count": 10,
   "id": "ef76c630",
   "metadata": {},
   "outputs": [],
   "source": [
    "x_train, x_test, y_train, y_test = train_test_split(x_arr, y_arr, test_size = 0.05, random_state=0)"
   ]
  },
  {
   "cell_type": "code",
   "execution_count": 11,
   "id": "401b82cd",
   "metadata": {},
   "outputs": [
    {
     "name": "stdout",
     "output_type": "stream",
     "text": [
      "Model: \"sequential\"\n",
      "_________________________________________________________________\n",
      " Layer (type)                Output Shape              Param #   \n",
      "=================================================================\n",
      " dense (Dense)               (None, 10)                40        \n",
      "                                                                 \n",
      " dense_1 (Dense)             (None, 15)                165       \n",
      "                                                                 \n",
      " dense_2 (Dense)             (None, 10)                160       \n",
      "                                                                 \n",
      " dense_3 (Dense)             (None, 5)                 55        \n",
      "                                                                 \n",
      " dense_4 (Dense)             (None, 1)                 6         \n",
      "                                                                 \n",
      "=================================================================\n",
      "Total params: 426\n",
      "Trainable params: 426\n",
      "Non-trainable params: 0\n",
      "_________________________________________________________________\n"
     ]
    }
   ],
   "source": [
    "def get_model():\n",
    "    model = Sequential([\n",
    "        Dense(10, input_shape=(3,), activation='relu'),\n",
    "        Dense(15, activation='relu'),\n",
    "        Dense(10, activation='relu'),\n",
    "        Dense(5, activation='relu'),\n",
    "        Dense(1)\n",
    "    ])\n",
    "    model.compile(\n",
    "        loss='mse', #mean square error\n",
    "        optimizer='adam'\n",
    "    )\n",
    "    return model\n",
    "get_model().summary()"
   ]
  },
  {
   "cell_type": "code",
   "execution_count": 12,
   "id": "327a1998",
   "metadata": {},
   "outputs": [
    {
     "name": "stdout",
     "output_type": "stream",
     "text": [
      "Epoch 1/100\n",
      "145/145 [==============================] - 1s 2ms/step - loss: 0.8280 - val_loss: 0.5865\n",
      "Epoch 2/100\n",
      "145/145 [==============================] - 0s 1ms/step - loss: 0.5964 - val_loss: 0.5636\n",
      "Epoch 3/100\n",
      "145/145 [==============================] - 0s 1ms/step - loss: 0.5680 - val_loss: 0.5707\n",
      "Epoch 4/100\n",
      "145/145 [==============================] - 0s 1ms/step - loss: 0.5631 - val_loss: 0.5657\n",
      "Epoch 5/100\n",
      "145/145 [==============================] - 0s 1ms/step - loss: 0.5574 - val_loss: 0.5656\n",
      "Epoch 6/100\n",
      "145/145 [==============================] - 0s 1ms/step - loss: 0.5568 - val_loss: 0.5721\n",
      "Epoch 7/100\n",
      "145/145 [==============================] - 0s 1ms/step - loss: 0.5555 - val_loss: 0.5674\n"
     ]
    }
   ],
   "source": [
    "es_cb = EarlyStopping(monitor='val_loss', patience=5)\n",
    "\n",
    "model=get_model()\n",
    "preds_on_untrained = model.predict(x_test)\n",
    "\n",
    "history = model.fit(\n",
    "x_train, y_train,\n",
    "    validation_data = (x_test, y_test),\n",
    "    epochs = 100,\n",
    "    callbacks = [es_cb]\n",
    ")"
   ]
  },
  {
   "cell_type": "code",
   "execution_count": 13,
   "id": "2aa7d8a2",
   "metadata": {},
   "outputs": [
    {
     "data": {
      "image/png": "[encoded data removed]",
      "text/plain": [
       "<Figure size 576x576 with 1 Axes>"
      ]
     },
     "metadata": {
      "needs_background": "light"
     },
     "output_type": "display_data"
    }
   ],
   "source": [
    "plot_loss(history)"
   ]
  },
  {
   "cell_type": "code",
   "execution_count": 14,
   "id": "7c1a2fdb",
   "metadata": {},
   "outputs": [
    {
     "data": {
      "text/plain": [
       "-34473"
      ]
     },
     "execution_count": 14,
     "metadata": {},
     "output_type": "execute_result"
    }
   ],
   "source": [
    " x_test= [[2021,10,0]]\n",
    "prediction = model.predict(x_test)\n",
    "convert_label_value(prediction)"
   ]
  },
  {
   "cell_type": "markdown",
   "id": "391d7d6b",
   "metadata": {},
   "source": [
    "# Logowanie"
   ]
  },
  {
   "cell_type": "code",
   "execution_count": 15,
   "id": "cd9eede9",
   "metadata": {},
   "outputs": [],
   "source": [
    "import mysql.connector\n",
    "from pyfiglet import Figlet\n",
    "import numpy as np"
   ]
  },
  {
   "cell_type": "code",
   "execution_count": 16,
   "id": "b164d640",
   "metadata": {},
   "outputs": [],
   "source": [
    "database_connection = False\n",
    "running = True\n",
    "pass_weak = False\n",
    "login_status = False\n",
    "\n",
    "login_said= False\n",
    "host=\"localhost\"\n",
    "user=\"root\"\n",
    "passwd=\"root\"\n",
    "database=\"predictions_project_db\"\n",
    "auth_plugin = 'mysql_native_password'"
   ]
  },
  {
   "cell_type": "code",
   "execution_count": 17,
   "id": "08c03e3b",
   "metadata": {},
   "outputs": [],
   "source": [
    "def database_connect(host,usr,password,datab,auth_plugin):\n",
    "    global database_connection, db, mycursor\n",
    "    db = mysql.connector.connect(\n",
    "        host=host,\n",
    "        user=usr,\n",
    "        passwd=password,\n",
    "        database=datab,\n",
    "        auth_plugin=auth_plugin\n",
    "        )\n",
    "    mycursor = db.cursor()\n",
    "    return db"
   ]
  },
  {
   "cell_type": "code",
   "execution_count": 18,
   "id": "84a72f3f",
   "metadata": {},
   "outputs": [],
   "source": [
    "def database_setup(host,user,passwd,database,auth_plugin):\n",
    "    global database_connection, db, mycursor\n",
    "    db = database_connect(host,user,passwd,database,auth_plugin)\n",
    "    mycursor = db.cursor()"
   ]
  },
  {
   "cell_type": "code",
   "execution_count": 19,
   "id": "2bfb2dfb",
   "metadata": {},
   "outputs": [
    {
     "data": {
      "text/plain": [
       "False"
      ]
     },
     "execution_count": 19,
     "metadata": {},
     "output_type": "execute_result"
    }
   ],
   "source": [
    "\n",
    "database_setup(host,user,passwd,database,auth_plugin)\n",
    "login_said"
   ]
  },
  {
   "cell_type": "code",
   "execution_count": 20,
   "id": "166788cf",
   "metadata": {},
   "outputs": [],
   "source": [
    "def start():\n",
    "   \n",
    "    f = Figlet(font='drpepper')\n",
    "    print(f.renderText('House price predictor'))\n",
    "    print(\"Welcome\")\n",
    "    print(\"\")\n",
    "    while running:\n",
    "        if not database_connection:\n",
    "            print(\"\")\n",
    "            print(\"1) Register\")\n",
    "            print(\"2) Login\")\n",
    "            print(\"3) Quit\")\n",
    "            print(\"\")\n",
    "            user_input = input(\"Input a number: \")\n",
    "        if user_input == str(3):\n",
    "            print(\"\")\n",
    "            print(\"See you soon!\")\n",
    "            exit()\n",
    "            break\n",
    "        elif user_input == str(1):\n",
    "            register_name = input(\"Input your login: \")\n",
    "            register_passwd = input(\"Input your password: \")\n",
    "            if (len(register_passwd) >= 8):\n",
    "                mycursor.execute(f\"INSERT INTO system_data (login,password) VALUES ('{register_name}','{register_passwd}')\")\n",
    "                db.commit()\n",
    "                print(\"\")\n",
    "                print(f\"Congratulations! Your login is {register_name} and your password is {register_passwd}!\")\n",
    "            else:\n",
    "                print(\"Weak password, the password should be longer than 7 characters!\")\n",
    "        elif user_input == str(2):\n",
    "            login_status = False\n",
    "            mycursor.execute(\"SELECT * FROM system_data\")\n",
    "            credentials = []\n",
    "            for x in mycursor:\n",
    "                credentials.append(x)\n",
    "            while not login_status:\n",
    "                login_name = input(\"Input your login: \")\n",
    "                login_passwd = input(\"Input your password: \")\n",
    "                for counter in range(len(credentials)):\n",
    "                    if login_name == credentials[counter][0]:\n",
    "                        if login_passwd == credentials[counter][1]:  \n",
    "                            print(\"\")\n",
    "                            print(\"Login successfull\")\n",
    "                            print(\"\")\n",
    "                            login_status = True\n",
    "                            year = int(input(\"Input date: \"))\n",
    "                            distance = int(input(\"Input distance from centre: \"))\n",
    "                            stores = int(input(\"Input number of stores nearby: \"))\n",
    "                            x_test= [[year, distance, stores]]\n",
    "                            #print(x_test)\n",
    "                            prediction = model.predict(x_test)\n",
    "                            result = np.abs(convert_label_value(prediction))\n",
    "                            print(\"PREDICTED PRICE: \", result)\n",
    "                            mycursor.execute(f\"UPDATE system_data SET PRICE={result} WHERE login='{login_name}'\")\n",
    "                            db.commit()\n",
    "                         \n",
    "             "
   ]
  },
  {
   "cell_type": "code",
   "execution_count": null,
   "id": "e825fe0e",
   "metadata": {},
   "outputs": [
    {
     "name": "stdout",
     "output_type": "stream",
     "text": [
      " _ _                                _           \n",
      "| | | ___  _ _  ___ ___   ___  _ _ <_> ___  ___ \n",
      "|   |/ . \\| | |<_-</ ._> | . \\| '_>| |/ | '/ ._>\n",
      "|_|_|\\___/`___|/__/\\___. |  _/|_|  |_|\\_|_.\\___.\n",
      "                         |_|                    \n",
      "                  _  _        _            \n",
      " ___  _ _  ___  _| |<_> ___ _| |_ ___  _ _ \n",
      "| . \\| '_>/ ._>/ . || |/ | ' | | / . \\| '_>\n",
      "|  _/|_|  \\___.\\___||_|\\_|_. |_| \\___/|_|  \n",
      "|_|                                        \n",
      "\n",
      "Welcome\n",
      "\n",
      "\n",
      "1) Register\n",
      "2) Login\n",
      "3) Quit\n",
      "\n",
      "Input a number: 2\n",
      "Input your login: ignacy\n",
      "Input your password: qwerty123\n",
      "PIERWSZY IF ignacy\n",
      "DRUGI IF qwerty123\n",
      "\n",
      "Login successfull\n",
      "\n",
      "Input date: 8888\n",
      "Input distance from centre: 0\n",
      "Input number of stores nearby: 10\n",
      "PREDICTED PRICE:  201125\n",
      "\n",
      "1) Register\n",
      "2) Login\n",
      "3) Quit\n",
      "\n",
      "Input a number: 2\n",
      "Input your login: ignacy\n",
      "Input your password: kwgbavfkhekahsdb\n",
      "PIERWSZY IF ignacy\n"
     ]
    }
   ],
   "source": [
    "start()"
   ]
  },
  {
   "cell_type": "code",
   "execution_count": null,
   "id": "6ed3d878",
   "metadata": {},
   "outputs": [],
   "source": [
    "#database_setup(host,user,passwd,database,auth_plugin)\n",
    "#mycursor.execute(f\"UPDATE system_data SET PRICE=2 WHERE login='ania'\")\n",
    "#db.commit()"
   ]
  },
  {
   "cell_type": "code",
   "execution_count": null,
   "id": "629987fe",
   "metadata": {},
   "outputs": [],
   "source": []
  }
 ],
 "metadata": {
  "kernelspec": {
   "display_name": "Python 3",
   "language": "python",
   "name": "python3"
  },
  "language_info": {
   "codemirror_mode": {
    "name": "ipython",
    "version": 3
   },
   "file_extension": ".py",
   "mimetype": "text/x-python",
   "name": "python",
   "nbconvert_exporter": "python",
   "pygments_lexer": "ipython3",
   "version": "3.8.8"
  }
 },
 "nbformat": 4,
 "nbformat_minor": 5
}
