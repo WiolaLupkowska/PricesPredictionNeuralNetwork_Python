{
 "cells": [
  {
   "cell_type": "markdown",
   "id": "f7ee239d",
   "metadata": {},
   "source": [
    "# Model"
   ]
  },
  {
   "cell_type": "code",
   "execution_count": 1,
   "id": "5041f623",
   "metadata": {},
   "outputs": [
    {
     "name": "stdout",
     "output_type": "stream",
     "text": [
      "Libraries imported.\n"
     ]
    }
   ],
   "source": [
    "import pandas as pd\n",
    "import matplotlib.pyplot as plt\n",
    "import tensorflow as tf\n",
    "\n",
    "from utils import *\n",
    "from sklearn.model_selection import train_test_split\n",
    "from tensorflow.keras.models import Sequential\n",
    "from tensorflow.keras.layers import Dense, Dropout\n",
    "from tensorflow.keras.callbacks import EarlyStopping, LambdaCallback\n",
    "\n",
    "%matplotlib inline\n",
    "tf.compat.v1.logging.set_verbosity(tf.compat.v1.logging.ERROR)\n",
    "\n",
    "print('Libraries imported.')"
   ]
  },
  {
   "cell_type": "code",
   "execution_count": 2,
   "id": "1bd1ed7b",
   "metadata": {},
   "outputs": [
    {
     "data": {
      "text/html": [
       "<div>\n",
       "<style scoped>\n",
       "    .dataframe tbody tr th:only-of-type {\n",
       "        vertical-align: middle;\n",
       "    }\n",
       "\n",
       "    .dataframe tbody tr th {\n",
       "        vertical-align: top;\n",
       "    }\n",
       "\n",
       "    .dataframe thead th {\n",
       "        text-align: right;\n",
       "    }\n",
       "</style>\n",
       "<table border=\"1\" class=\"dataframe\">\n",
       "  <thead>\n",
       "    <tr style=\"text-align: right;\">\n",
       "      <th></th>\n",
       "      <th>serial</th>\n",
       "      <th>date</th>\n",
       "      <th>age</th>\n",
       "      <th>distance</th>\n",
       "      <th>stores</th>\n",
       "      <th>latitude</th>\n",
       "      <th>longitude</th>\n",
       "      <th>price</th>\n",
       "    </tr>\n",
       "  </thead>\n",
       "  <tbody>\n",
       "    <tr>\n",
       "      <th>0</th>\n",
       "      <td>NaN</td>\n",
       "      <td>84</td>\n",
       "      <td>129</td>\n",
       "      <td>14797</td>\n",
       "      <td>NaN</td>\n",
       "      <td>NaN</td>\n",
       "      <td>NaN</td>\n",
       "      <td>NaN</td>\n",
       "    </tr>\n",
       "    <tr>\n",
       "      <th>1</th>\n",
       "      <td>146.0</td>\n",
       "      <td>2003</td>\n",
       "      <td>30</td>\n",
       "      <td>0</td>\n",
       "      <td>5.0</td>\n",
       "      <td>86.0</td>\n",
       "      <td>120.0</td>\n",
       "      <td>13180.0</td>\n",
       "    </tr>\n",
       "    <tr>\n",
       "      <th>2</th>\n",
       "      <td>147.0</td>\n",
       "      <td>2007</td>\n",
       "      <td>13</td>\n",
       "      <td>10</td>\n",
       "      <td>4.0</td>\n",
       "      <td>81.0</td>\n",
       "      <td>128.0</td>\n",
       "      <td>14107.0</td>\n",
       "    </tr>\n",
       "    <tr>\n",
       "      <th>3</th>\n",
       "      <td>148.0</td>\n",
       "      <td>2018</td>\n",
       "      <td>18</td>\n",
       "      <td>6</td>\n",
       "      <td>5.0</td>\n",
       "      <td>84.0</td>\n",
       "      <td>128.0</td>\n",
       "      <td>13986.0</td>\n",
       "    </tr>\n",
       "    <tr>\n",
       "      <th>4</th>\n",
       "      <td>149.0</td>\n",
       "      <td>2012</td>\n",
       "      <td>7</td>\n",
       "      <td>8</td>\n",
       "      <td>2.0</td>\n",
       "      <td>87.0</td>\n",
       "      <td>127.0</td>\n",
       "      <td>13140.0</td>\n",
       "    </tr>\n",
       "  </tbody>\n",
       "</table>\n",
       "</div>"
      ],
      "text/plain": [
       "   serial  date  age  distance  stores  latitude  longitude    price\n",
       "0     NaN    84  129     14797     NaN       NaN        NaN      NaN\n",
       "1   146.0  2003   30         0     5.0      86.0      120.0  13180.0\n",
       "2   147.0  2007   13        10     4.0      81.0      128.0  14107.0\n",
       "3   148.0  2018   18         6     5.0      84.0      128.0  13986.0\n",
       "4   149.0  2012    7         8     2.0      87.0      127.0  13140.0"
      ]
     },
     "execution_count": 2,
     "metadata": {},
     "output_type": "execute_result"
    }
   ],
   "source": [
    "df = pd.read_csv('data.csv', names = column_names)\n",
    "df.head()"
   ]
  },
  {
   "cell_type": "code",
   "execution_count": 3,
   "id": "68991a39",
   "metadata": {},
   "outputs": [
    {
     "data": {
      "text/plain": [
       "serial       1\n",
       "date         0\n",
       "age          0\n",
       "distance     0\n",
       "stores       1\n",
       "latitude     1\n",
       "longitude    1\n",
       "price        1\n",
       "dtype: int64"
      ]
     },
     "execution_count": 3,
     "metadata": {},
     "output_type": "execute_result"
    }
   ],
   "source": [
    "df.isna().sum()"
   ]
  },
  {
   "cell_type": "code",
   "execution_count": 4,
   "id": "1ff82177",
   "metadata": {},
   "outputs": [
    {
     "data": {
      "text/html": [
       "<div>\n",
       "<style scoped>\n",
       "    .dataframe tbody tr th:only-of-type {\n",
       "        vertical-align: middle;\n",
       "    }\n",
       "\n",
       "    .dataframe tbody tr th {\n",
       "        vertical-align: top;\n",
       "    }\n",
       "\n",
       "    .dataframe thead th {\n",
       "        text-align: right;\n",
       "    }\n",
       "</style>\n",
       "<table border=\"1\" class=\"dataframe\">\n",
       "  <thead>\n",
       "    <tr style=\"text-align: right;\">\n",
       "      <th></th>\n",
       "      <th>date</th>\n",
       "      <th>age</th>\n",
       "      <th>distance</th>\n",
       "      <th>stores</th>\n",
       "      <th>latitude</th>\n",
       "      <th>longitude</th>\n",
       "      <th>price</th>\n",
       "    </tr>\n",
       "  </thead>\n",
       "  <tbody>\n",
       "    <tr>\n",
       "      <th>1</th>\n",
       "      <td>-1.087732</td>\n",
       "      <td>0.969210</td>\n",
       "      <td>-1.549234</td>\n",
       "      <td>0.026587</td>\n",
       "      <td>0.323799</td>\n",
       "      <td>-1.580082</td>\n",
       "      <td>-0.707735</td>\n",
       "    </tr>\n",
       "    <tr>\n",
       "      <th>2</th>\n",
       "      <td>-0.354801</td>\n",
       "      <td>-0.526978</td>\n",
       "      <td>1.574979</td>\n",
       "      <td>-0.291276</td>\n",
       "      <td>-1.257727</td>\n",
       "      <td>0.946904</td>\n",
       "      <td>0.196839</td>\n",
       "    </tr>\n",
       "    <tr>\n",
       "      <th>3</th>\n",
       "      <td>1.660759</td>\n",
       "      <td>-0.086923</td>\n",
       "      <td>0.325294</td>\n",
       "      <td>0.026587</td>\n",
       "      <td>-0.308811</td>\n",
       "      <td>0.946904</td>\n",
       "      <td>0.078766</td>\n",
       "    </tr>\n",
       "    <tr>\n",
       "      <th>4</th>\n",
       "      <td>0.561363</td>\n",
       "      <td>-1.055045</td>\n",
       "      <td>0.950137</td>\n",
       "      <td>-0.927001</td>\n",
       "      <td>0.640104</td>\n",
       "      <td>0.631031</td>\n",
       "      <td>-0.746767</td>\n",
       "    </tr>\n",
       "    <tr>\n",
       "      <th>5</th>\n",
       "      <td>0.561363</td>\n",
       "      <td>0.881198</td>\n",
       "      <td>0.325294</td>\n",
       "      <td>-0.609139</td>\n",
       "      <td>0.640104</td>\n",
       "      <td>0.315157</td>\n",
       "      <td>0.530565</td>\n",
       "    </tr>\n",
       "  </tbody>\n",
       "</table>\n",
       "</div>"
      ],
      "text/plain": [
       "       date       age  distance    stores  latitude  longitude     price\n",
       "1 -1.087732  0.969210 -1.549234  0.026587  0.323799  -1.580082 -0.707735\n",
       "2 -0.354801 -0.526978  1.574979 -0.291276 -1.257727   0.946904  0.196839\n",
       "3  1.660759 -0.086923  0.325294  0.026587 -0.308811   0.946904  0.078766\n",
       "4  0.561363 -1.055045  0.950137 -0.927001  0.640104   0.631031 -0.746767\n",
       "5  0.561363  0.881198  0.325294 -0.609139  0.640104   0.315157  0.530565"
      ]
     },
     "execution_count": 4,
     "metadata": {},
     "output_type": "execute_result"
    }
   ],
   "source": [
    "df = df.iloc[1:,1:]\n",
    "df_norm = (df - df.mean())/df.std()\n",
    "df_norm.head()"
   ]
  },
  {
   "cell_type": "code",
   "execution_count": 5,
   "id": "cb150e37",
   "metadata": {},
   "outputs": [],
   "source": [
    "y_mean = df['price'].mean()\n",
    "y_std = df['price'].std()\n",
    "def convert_label_value(pred):\n",
    "    return int(pred * y_std + y_mean) #trzeba cofnac normalizacje ceny"
   ]
  },
  {
   "cell_type": "code",
   "execution_count": 6,
   "id": "e285399e",
   "metadata": {},
   "outputs": [
    {
     "data": {
      "text/html": [
       "<div>\n",
       "<style scoped>\n",
       "    .dataframe tbody tr th:only-of-type {\n",
       "        vertical-align: middle;\n",
       "    }\n",
       "\n",
       "    .dataframe tbody tr th {\n",
       "        vertical-align: top;\n",
       "    }\n",
       "\n",
       "    .dataframe thead th {\n",
       "        text-align: right;\n",
       "    }\n",
       "</style>\n",
       "<table border=\"1\" class=\"dataframe\">\n",
       "  <thead>\n",
       "    <tr style=\"text-align: right;\">\n",
       "      <th></th>\n",
       "      <th>date</th>\n",
       "      <th>age</th>\n",
       "      <th>distance</th>\n",
       "      <th>stores</th>\n",
       "      <th>latitude</th>\n",
       "      <th>longitude</th>\n",
       "    </tr>\n",
       "  </thead>\n",
       "  <tbody>\n",
       "    <tr>\n",
       "      <th>1</th>\n",
       "      <td>-1.087732</td>\n",
       "      <td>0.969210</td>\n",
       "      <td>-1.549234</td>\n",
       "      <td>0.026587</td>\n",
       "      <td>0.323799</td>\n",
       "      <td>-1.580082</td>\n",
       "    </tr>\n",
       "    <tr>\n",
       "      <th>2</th>\n",
       "      <td>-0.354801</td>\n",
       "      <td>-0.526978</td>\n",
       "      <td>1.574979</td>\n",
       "      <td>-0.291276</td>\n",
       "      <td>-1.257727</td>\n",
       "      <td>0.946904</td>\n",
       "    </tr>\n",
       "    <tr>\n",
       "      <th>3</th>\n",
       "      <td>1.660759</td>\n",
       "      <td>-0.086923</td>\n",
       "      <td>0.325294</td>\n",
       "      <td>0.026587</td>\n",
       "      <td>-0.308811</td>\n",
       "      <td>0.946904</td>\n",
       "    </tr>\n",
       "    <tr>\n",
       "      <th>4</th>\n",
       "      <td>0.561363</td>\n",
       "      <td>-1.055045</td>\n",
       "      <td>0.950137</td>\n",
       "      <td>-0.927001</td>\n",
       "      <td>0.640104</td>\n",
       "      <td>0.631031</td>\n",
       "    </tr>\n",
       "    <tr>\n",
       "      <th>5</th>\n",
       "      <td>0.561363</td>\n",
       "      <td>0.881198</td>\n",
       "      <td>0.325294</td>\n",
       "      <td>-0.609139</td>\n",
       "      <td>0.640104</td>\n",
       "      <td>0.315157</td>\n",
       "    </tr>\n",
       "  </tbody>\n",
       "</table>\n",
       "</div>"
      ],
      "text/plain": [
       "       date       age  distance    stores  latitude  longitude\n",
       "1 -1.087732  0.969210 -1.549234  0.026587  0.323799  -1.580082\n",
       "2 -0.354801 -0.526978  1.574979 -0.291276 -1.257727   0.946904\n",
       "3  1.660759 -0.086923  0.325294  0.026587 -0.308811   0.946904\n",
       "4  0.561363 -1.055045  0.950137 -0.927001  0.640104   0.631031\n",
       "5  0.561363  0.881198  0.325294 -0.609139  0.640104   0.315157"
      ]
     },
     "execution_count": 6,
     "metadata": {},
     "output_type": "execute_result"
    }
   ],
   "source": [
    "x = df_norm.iloc[:,:6]\n",
    "x.head()"
   ]
  },
  {
   "cell_type": "code",
   "execution_count": 7,
   "id": "117fbd67",
   "metadata": {},
   "outputs": [
    {
     "data": {
      "text/plain": [
       "1   -0.707735\n",
       "2    0.196839\n",
       "3    0.078766\n",
       "4   -0.746767\n",
       "5    0.530565\n",
       "Name: price, dtype: float64"
      ]
     },
     "execution_count": 7,
     "metadata": {},
     "output_type": "execute_result"
    }
   ],
   "source": [
    "y = df_norm.iloc[:,-1]\n",
    "y.head()"
   ]
  },
  {
   "cell_type": "code",
   "execution_count": 8,
   "id": "894a695e",
   "metadata": {},
   "outputs": [],
   "source": [
    "x_arr = x.values\n",
    "y_arr = y.values"
   ]
  },
  {
   "cell_type": "code",
   "execution_count": 9,
   "id": "ef76c630",
   "metadata": {},
   "outputs": [],
   "source": [
    "x_train, x_test, y_train, y_test = train_test_split(x_arr, y_arr, test_size = 0.05, random_state=0)"
   ]
  },
  {
   "cell_type": "code",
   "execution_count": 10,
   "id": "401b82cd",
   "metadata": {},
   "outputs": [
    {
     "name": "stdout",
     "output_type": "stream",
     "text": [
      "Model: \"sequential\"\n",
      "_________________________________________________________________\n",
      " Layer (type)                Output Shape              Param #   \n",
      "=================================================================\n",
      " dense (Dense)               (None, 10)                70        \n",
      "                                                                 \n",
      " dense_1 (Dense)             (None, 15)                165       \n",
      "                                                                 \n",
      " dense_2 (Dense)             (None, 10)                160       \n",
      "                                                                 \n",
      " dense_3 (Dense)             (None, 5)                 55        \n",
      "                                                                 \n",
      " dense_4 (Dense)             (None, 1)                 6         \n",
      "                                                                 \n",
      "=================================================================\n",
      "Total params: 456\n",
      "Trainable params: 456\n",
      "Non-trainable params: 0\n",
      "_________________________________________________________________\n"
     ]
    }
   ],
   "source": [
    "def get_model():\n",
    "    model = Sequential([\n",
    "        Dense(10, input_shape=(6,), activation='relu'),\n",
    "        Dense(15, activation='relu'),\n",
    "        Dense(10, activation='relu'),\n",
    "        Dense(5, activation='relu'),\n",
    "        Dense(1)\n",
    "    ])\n",
    "    model.compile(\n",
    "        loss='mse', #mean square error\n",
    "        optimizer='adam'\n",
    "    )\n",
    "    return model\n",
    "get_model().summary()"
   ]
  },
  {
   "cell_type": "code",
   "execution_count": 11,
   "id": "327a1998",
   "metadata": {},
   "outputs": [
    {
     "name": "stdout",
     "output_type": "stream",
     "text": [
      "Epoch 1/100\n",
      "145/145 [==============================] - 1s 2ms/step - loss: 0.6846 - val_loss: 0.2547\n",
      "Epoch 2/100\n",
      "145/145 [==============================] - 0s 1ms/step - loss: 0.2253 - val_loss: 0.1796\n",
      "Epoch 3/100\n",
      "145/145 [==============================] - 0s 1ms/step - loss: 0.1772 - val_loss: 0.1685\n",
      "Epoch 4/100\n",
      "145/145 [==============================] - 0s 1ms/step - loss: 0.1676 - val_loss: 0.1658\n",
      "Epoch 5/100\n",
      "145/145 [==============================] - 0s 1ms/step - loss: 0.1623 - val_loss: 0.1665\n",
      "Epoch 6/100\n",
      "145/145 [==============================] - 0s 1ms/step - loss: 0.1587 - val_loss: 0.1611\n",
      "Epoch 7/100\n",
      "145/145 [==============================] - 0s 1ms/step - loss: 0.1567 - val_loss: 0.1631\n",
      "Epoch 8/100\n",
      "145/145 [==============================] - 0s 1ms/step - loss: 0.1553 - val_loss: 0.1812\n",
      "Epoch 9/100\n",
      "145/145 [==============================] - 0s 1ms/step - loss: 0.1548 - val_loss: 0.1626\n",
      "Epoch 10/100\n",
      "145/145 [==============================] - 0s 1ms/step - loss: 0.1542 - val_loss: 0.1588\n",
      "Epoch 11/100\n",
      "145/145 [==============================] - 0s 1ms/step - loss: 0.1528 - val_loss: 0.1593\n",
      "Epoch 12/100\n",
      "145/145 [==============================] - 0s 1ms/step - loss: 0.1523 - val_loss: 0.1597\n",
      "Epoch 13/100\n",
      "145/145 [==============================] - 0s 1ms/step - loss: 0.1528 - val_loss: 0.1566\n",
      "Epoch 14/100\n",
      "145/145 [==============================] - ETA: 0s - loss: 0.1519- ETA: 0s - loss: 0.15 - 0s 1ms/step - loss: 0.1518 - val_loss: 0.1571\n",
      "Epoch 15/100\n",
      "145/145 [==============================] - 0s 1ms/step - loss: 0.1519 - val_loss: 0.1569\n",
      "Epoch 16/100\n",
      "145/145 [==============================] - 0s 1ms/step - loss: 0.1522 - val_loss: 0.1522\n",
      "Epoch 17/100\n",
      "145/145 [==============================] - 0s 1ms/step - loss: 0.1523 - val_loss: 0.1582\n",
      "Epoch 18/100\n",
      "145/145 [==============================] - 0s 1ms/step - loss: 0.1506 - val_loss: 0.1549\n",
      "Epoch 19/100\n",
      "145/145 [==============================] - 0s 1ms/step - loss: 0.1496 - val_loss: 0.1633\n",
      "Epoch 20/100\n",
      "145/145 [==============================] - 0s 1ms/step - loss: 0.1506 - val_loss: 0.1602\n",
      "Epoch 21/100\n",
      "145/145 [==============================] - 0s 1ms/step - loss: 0.1502 - val_loss: 0.1550\n"
     ]
    }
   ],
   "source": [
    "es_cb = EarlyStopping(monitor='val_loss', patience=5)\n",
    "\n",
    "model=get_model()\n",
    "preds_on_untrained = model.predict(x_test)\n",
    "\n",
    "history = model.fit(\n",
    "x_train, y_train,\n",
    "    validation_data = (x_test, y_test),\n",
    "    epochs = 100,\n",
    "    callbacks = [es_cb]\n",
    ")"
   ]
  },
  {
   "cell_type": "code",
   "execution_count": 12,
   "id": "2aa7d8a2",
   "metadata": {},
   "outputs": [
    {
     "data": {
      "image/png": "[encoded data removed]",
      "text/plain": [
       "<Figure size 576x576 with 1 Axes>"
      ]
     },
     "metadata": {
      "needs_background": "light"
     },
     "output_type": "display_data"
    }
   ],
   "source": [
    "plot_loss(history)"
   ]
  },
  {
   "cell_type": "code",
   "execution_count": 13,
   "id": "b11092bc",
   "metadata": {},
   "outputs": [
    {
     "data": {
      "image/png": "[encoded data removed]",
      "text/plain": [
       "<Figure size 576x576 with 1 Axes>"
      ]
     },
     "metadata": {
      "needs_background": "light"
     },
     "output_type": "display_data"
    }
   ],
   "source": [
    "preds_on_trained = model.predict(x_test)\n",
    "compare_predictions(preds_on_untrained, preds_on_trained, y_test)"
   ]
  },
  {
   "cell_type": "code",
   "execution_count": 14,
   "id": "c33c44c7",
   "metadata": {},
   "outputs": [
    {
     "data": {
      "image/png": "[encoded data removed]",
      "text/plain": [
       "<Figure size 576x576 with 1 Axes>"
      ]
     },
     "metadata": {
      "needs_background": "light"
     },
     "output_type": "display_data"
    }
   ],
   "source": [
    "price_untrained = [convert_label_value(y) for y in preds_on_untrained]\n",
    "price_trained = [convert_label_value(y) for y in preds_on_trained]\n",
    "price_test = [convert_label_value(y) for y in y_test]\n",
    "\n",
    "compare_predictions(price_untrained, price_trained, price_test)"
   ]
  },
  {
   "cell_type": "markdown",
   "id": "391d7d6b",
   "metadata": {},
   "source": [
    "# Logowanie"
   ]
  },
  {
   "cell_type": "code",
   "execution_count": 15,
   "id": "cd9eede9",
   "metadata": {},
   "outputs": [],
   "source": [
    "import mysql.connector\n",
    "from pyfiglet import Figlet"
   ]
  },
  {
   "cell_type": "code",
   "execution_count": 34,
   "id": "b164d640",
   "metadata": {},
   "outputs": [],
   "source": [
    "database_connection = False\n",
    "running = True\n",
    "pass_weak = False\n",
    "login_status = False\n",
    "\n",
    "login_said= False\n",
    "host=\"localhost\"\n",
    "user=\"root\"\n",
    "passwd=\"root\"\n",
    "database=\"predictions_project_db\"\n",
    "auth_plugin = 'mysql_native_password'"
   ]
  },
  {
   "cell_type": "code",
   "execution_count": 17,
   "id": "08c03e3b",
   "metadata": {},
   "outputs": [],
   "source": [
    "def database_connect(host,usr,password,datab,auth_plugin):\n",
    "    global database_connection, db, mycursor\n",
    "    db = mysql.connector.connect(\n",
    "        host=host,\n",
    "        user=usr,\n",
    "        passwd=password,\n",
    "        database=datab,\n",
    "        auth_plugin=auth_plugin\n",
    "        )\n",
    "    mycursor = db.cursor()\n",
    "    return db"
   ]
  },
  {
   "cell_type": "code",
   "execution_count": 24,
   "id": "84a72f3f",
   "metadata": {},
   "outputs": [],
   "source": [
    "def database_setup(host,user,passwd,database,auth_plugin):\n",
    "    global database_connection, db, mycursor\n",
    "    db = database_connect(host,user,passwd,database,auth_plugin)\n",
    "    mycursor = db.cursor()"
   ]
  },
  {
   "cell_type": "code",
   "execution_count": 31,
   "id": "2bfb2dfb",
   "metadata": {},
   "outputs": [
    {
     "data": {
      "text/plain": [
       "False"
      ]
     },
     "execution_count": 31,
     "metadata": {},
     "output_type": "execute_result"
    }
   ],
   "source": [
    "\n",
    "database_setup(host,user,passwd,database,auth_plugin)\n",
    "login_said"
   ]
  },
  {
   "cell_type": "code",
   "execution_count": 36,
   "id": "166788cf",
   "metadata": {},
   "outputs": [],
   "source": [
    "def start():\n",
    "    global login_said\n",
    "    f = Figlet(font='drpepper')\n",
    "    print(f.renderText('House predictor'))\n",
    "    print(\"Welcome\")\n",
    "    print(\"\")\n",
    "    while running:\n",
    "        if not database_connection:\n",
    "            print(\"\")\n",
    "            print(\"1) Register\")\n",
    "            print(\"2) Login\")\n",
    "            print(\"3) Quit\")\n",
    "            print(\"\")\n",
    "            user_input = input(\"Input a number: \")\n",
    "        if user_input == str(4):\n",
    "            print(\"\")\n",
    "            print(\"See you soon!\")\n",
    "            exit()\n",
    "        elif user_input == str(1):\n",
    "            register_name = input(\"Input your login: \")\n",
    "            register_passwd = input(\"Input your password: \")\n",
    "            if (len(register_passwd) >= 8):\n",
    "                mycursor.execute(f\"INSERT INTO system_data (login,password) VALUES ('{register_name}','{register_passwd}')\")\n",
    "                db.commit()\n",
    "                pass_weak = True\n",
    "                print(\"\")\n",
    "                print(f\"Congratulations! Your name is {register_name} and your password is {register_passwd}!\")\n",
    "            else:\n",
    "                print(\"Weak password, the password should contain at least an upper case letter, a lower case letter, a number and must be longer than 7 characters!\")\n",
    "        \n",
    "        elif user_input == str(2):\n",
    "\n",
    "            mycursor.execute(\"SELECT * FROM system_data\")\n",
    "            credentials = []\n",
    "            for x in mycursor:\n",
    "                credentials.append(x)\n",
    "            while not login_status:\n",
    "                login_name = input(\"Input your login: \")\n",
    "                login_passwd = input(\"Input your password: \")\n",
    "                for counter in range(len(credentials)):\n",
    "                    if login_name == credentials[counter][0]:\n",
    "                        if login_passwd == credentials[counter][1]:\n",
    "                            print(\"\")\n",
    "                            print(\"You successfully logged in, thank you really much for using our system :)\")\n",
    "                            print(\"\")\n",
    "                            print(f'The account name is called \"{credentials[counter][0]}\" and the password is \"{credentials[counter][1]}\"')\n",
    "                            print(f\"This account was the number {credentials[counter][2]} registered account!\")\n",
    "                            print(\"\")\n",
    "                            exit()\n",
    "                        else:\n",
    "                            if login_said == False:\n",
    "                                print(\"Sorry, wrong username or password!\")\n",
    "                                login_said = True\n",
    "                    elif login_said == False:\n",
    "                                print(\"Sorry, wrong username or password!\")\n",
    "                                login_said = True\n",
    "                login_said = False"
   ]
  },
  {
   "cell_type": "code",
   "execution_count": null,
   "id": "e825fe0e",
   "metadata": {},
   "outputs": [
    {
     "name": "stdout",
     "output_type": "stream",
     "text": [
      " _ _                                       _  _        _            \n",
      "| | | ___  _ _  ___ ___   ___  _ _  ___  _| |<_> ___ _| |_ ___  _ _ \n",
      "|   |/ . \\| | |<_-</ ._> | . \\| '_>/ ._>/ . || |/ | ' | | / . \\| '_>\n",
      "|_|_|\\___/`___|/__/\\___. |  _/|_|  \\___.\\___||_|\\_|_. |_| \\___/|_|  \n",
      "                         |_|                                        \n",
      "\n",
      "Welcome\n",
      "\n",
      "\n",
      "1) Register\n",
      "2) Login\n",
      "3) Quit\n",
      "\n",
      "Input a number: 2\n",
      "Input your login: 222222222222\n",
      "Input your password: oooooo\n",
      "Sorry, wrong username or password!\n",
      "Input your login: 11111111\n",
      "Input your password: 1111111111\n",
      "\n",
      "You successfully logged in, thank you really much for using our system :)\n",
      "\n",
      "The account name is called \"11111111\" and the password is \"1111111111\"\n",
      "This account was the number 1 registered account!\n",
      "\n"
     ]
    }
   ],
   "source": [
    "start()"
   ]
  },
  {
   "cell_type": "code",
   "execution_count": null,
   "id": "6ed3d878",
   "metadata": {},
   "outputs": [],
   "source": []
  }
 ],
 "metadata": {
  "kernelspec": {
   "display_name": "Python 3",
   "language": "python",
   "name": "python3"
  },
  "language_info": {
   "codemirror_mode": {
    "name": "ipython",
    "version": 3
   },
   "file_extension": ".py",
   "mimetype": "text/x-python",
   "name": "python",
   "nbconvert_exporter": "python",
   "pygments_lexer": "ipython3",
   "version": "3.8.8"
  }
 },
 "nbformat": 4,
 "nbformat_minor": 5
}
